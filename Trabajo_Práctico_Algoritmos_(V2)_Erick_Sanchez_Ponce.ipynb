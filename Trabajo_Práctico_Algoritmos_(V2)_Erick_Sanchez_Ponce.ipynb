{
  "nbformat": 4,
  "nbformat_minor": 0,
  "metadata": {
    "colab": {
      "provenance": [],
      "include_colab_link": true
    },
    "kernelspec": {
      "name": "python3",
      "display_name": "Python 3"
    }
  },
  "cells": [
    {
      "cell_type": "markdown",
      "metadata": {
        "id": "view-in-github",
        "colab_type": "text"
      },
      "source": [
        "<a href=\"https://colab.research.google.com/github/Esanchezponce/01_MIAR_OCT_24/blob/main/Trabajo_Pr%C3%A1ctico_Algoritmos_(V2)_Erick_Sanchez_Ponce.ipynb\" target=\"_parent\"><img src=\"https://colab.research.google.com/assets/colab-badge.svg\" alt=\"Open In Colab\"/></a>"
      ]
    },
    {
      "cell_type": "markdown",
      "metadata": {
        "id": "hVbXYX-RfPWh"
      },
      "source": [
        "# Algoritmos de optimización - Trabajo Práctico<br>\n",
        "Nombre y Apellidos: Erick Hernan Sanchez Ponce  <br>\n",
        "Url: https://github.com/.../03MAIR---Algoritmos-de-Optimizacion---/tree/master/TrabajoPractico<br>\n",
        "Google Colab: https://colab.research.google.com/drive/xxxxxxxxxxxxxxxx <br>\n",
        "Problema:\n",
        ">1. Sesiones de doblaje <br>\n",
        ">2. Organizar los horarios de partidos de una jornada de La Liga<br>\n",
        ">3. Configuración de Tribunales\n",
        "\n",
        "Descripción del problema:(copiar enunciado)\n",
        "\n",
        "....\n",
        "\n",
        "\n",
        "\n",
        "\n",
        "\n",
        "\n",
        "\n",
        "                                        "
      ]
    },
    {
      "cell_type": "markdown",
      "source": [
        "#Modelo\n",
        "- ¿Como represento el espacio de soluciones?\n",
        "- ¿Cual es la función objetivo?\n",
        "- ¿Como implemento las restricciones?"
      ],
      "metadata": {
        "id": "Sbo9IqQtpaHZ"
      }
    },
    {
      "cell_type": "markdown",
      "source": [],
      "metadata": {
        "id": "67p_vszBposu"
      }
    },
    {
      "cell_type": "code",
      "metadata": {
        "id": "AiskKkzZfy4e"
      },
      "source": [
        "#Respuesta\n"
      ],
      "execution_count": null,
      "outputs": []
    },
    {
      "cell_type": "markdown",
      "source": [
        "#Análisis\n",
        "- ¿Que complejidad tiene el problema?. Orden de complejidad y Contabilizar el espacio de soluciones"
      ],
      "metadata": {
        "id": "HZz52wOppp-U"
      }
    },
    {
      "cell_type": "code",
      "source": [
        "#Respuesta\n"
      ],
      "metadata": {
        "id": "CZ-5BmpspttV"
      },
      "execution_count": null,
      "outputs": []
    },
    {
      "cell_type": "markdown",
      "source": [
        "#Diseño\n",
        "- ¿Que técnica utilizo? ¿Por qué?"
      ],
      "metadata": {
        "id": "ixEJUwH_pv7M"
      }
    },
    {
      "cell_type": "code",
      "source": [
        "#Respuesta"
      ],
      "metadata": {
        "id": "ZdKPjB9gp2BA"
      },
      "execution_count": null,
      "outputs": []
    },
    {
      "cell_type": "markdown",
      "source": [
        "#Desarrollo"
      ],
      "metadata": {
        "id": "cqtDR5nmW4Ct"
      }
    },
    {
      "cell_type": "code",
      "source": [
        "import random\n",
        "import pandas as pd\n",
        "from collections import defaultdict\n",
        "\n",
        "# Datos del problema (directamente desde la imagen)\n",
        "data = {\n",
        "    'Toma': range(1, 31),\n",
        "    'Actor_1': [1, 0, 0, 1, 0, 1, 1, 1, 1, 1, 1, 1, 1, 1, 1, 1, 1, 1, 1, 1, 0, 1, 1, 0, 1, 1, 0, 0, 1, 1],\n",
        "    'Actor_2': [1, 0, 1, 1, 1, 1, 1, 1, 1, 1, 1, 1, 0, 0, 0, 0, 0, 0, 0, 1, 0, 1, 1, 1, 1, 0, 0, 0, 0, 0],\n",
        "    'Actor_3': [1, 1, 0, 0, 0, 0, 1, 0, 0, 1, 1, 1, 0, 1, 0, 0, 0, 0, 1, 0, 1, 1, 1, 1, 0, 1, 1, 1, 1, 1],\n",
        "    'Actor_4': [1, 1, 0, 0, 1, 0, 0, 0, 0, 0, 1, 1, 1, 1, 0, 0, 0, 0, 0, 1, 0, 0, 0, 0, 1, 0, 1, 1, 1, 1],\n",
        "    'Actor_5': [1, 1, 1, 1, 1, 0, 0, 0, 0, 0, 0, 0, 1, 1, 0, 0, 0, 0, 1, 1, 0, 0, 0, 1, 0, 1, 1, 1, 1, 1],\n",
        "    'Actor_6': [0, 0, 0, 0, 0, 1, 0, 0, 0, 0, 1, 1, 0, 0, 0, 0, 0, 0, 0, 0, 0, 0, 0, 0, 1, 0, 0, 0, 0, 0],\n",
        "    'Actor_7': [0, 1, 1, 1, 0, 0, 0, 0, 0, 0, 0, 1, 0, 0, 0, 0, 0, 0, 0, 0, 1, 0, 0, 0, 0, 1, 0, 0, 0, 0],\n",
        "    'Actor_8': [0, 0, 0, 1, 1, 0, 0, 0, 0, 0, 0, 0, 0, 1, 1, 0, 0, 0, 0, 0, 0, 0, 0, 0, 0, 0, 1, 1, 1, 1],\n",
        "    'Actor_9': [0, 0, 0, 1, 0, 0, 0, 0, 0, 0, 0, 0, 0, 0, 1, 0, 0, 0, 0, 0, 0, 0, 0, 0, 0, 0, 1, 1, 1, 1],\n",
        "    'Actor_10': [0, 0, 0, 0, 0, 0, 0, 0, 0, 0, 0, 0, 0, 0, 0, 0, 0, 0, 0, 0, 0, 0, 0, 0, 0, 0, 0, 0, 0, 0]\n",
        "}\n",
        "df_actores = pd.DataFrame(data)\n",
        "df_actores = df_actores.set_index('Toma')\n",
        "\n",
        "num_tomas = len(df_actores)\n",
        "num_actores = len(df_actores.columns)\n",
        "max_tomas_por_dia = 6\n",
        "\n",
        "def calcular_costo_dia(tomas_dia, df):\n",
        "    \"\"\"Calcula el costo (número de actores únicos) para un día de grabación.\"\"\"\n",
        "    actores_requeridos = [0] * num_actores\n",
        "    for toma_index in tomas_dia:\n",
        "        for i, col in enumerate(df.columns):\n",
        "            if df.loc[toma_index, col] == 1:\n",
        "                actores_requeridos[i] = 1\n",
        "    return sum(actores_requeridos)\n",
        "\n",
        "def evaluar_solucion(solucion, df):\n",
        "    \"\"\"Evalúa una solución (diccionario de día: [lista de tomas]) y devuelve su costo.\"\"\"\n",
        "    costo_total = 0\n",
        "    for dia, tomas_en_dia in solucion.items():\n",
        "        if len(tomas_en_dia) > max_tomas_por_dia:\n",
        "            return float('inf')  # Penalización por exceder el límite de tomas\n",
        "        costo_total += calcular_costo_dia(tomas_en_dia, df)\n",
        "    return costo_total\n",
        "\n",
        "def generar_vecinos(solucion_actual, tomas_pendientes_inicial):\n",
        "    \"\"\"Genera soluciones vecinas moviendo una toma a otro día.\"\"\"\n",
        "    vecinos = []\n",
        "    for dia_origen, tomas_origen in solucion_actual.items():\n",
        "        for i, toma_a_mover in enumerate(tomas_origen):\n",
        "            # Intentar mover la toma a un día existente\n",
        "            for dia_destino, tomas_destino in solucion_actual.items():\n",
        "                if dia_origen != dia_destino and len(tomas_destino) < max_tomas_por_dia:\n",
        "                    nueva_solucion = solucion_actual.copy()\n",
        "                    nueva_solucion[dia_origen] = tomas_origen[:i] + tomas_origen[i+1:]\n",
        "                    if not nueva_solucion[dia_origen]:\n",
        "                        del nueva_solucion[dia_origen]\n",
        "                    nueva_solucion[dia_destino] = tomas_destino + [toma_a_mover]\n",
        "                    vecinos.append(nueva_solucion)\n",
        "\n",
        "            # Intentar mover la toma a un nuevo día (si no todas las tomas están asignadas)\n",
        "            tomas_asignadas = set()\n",
        "            for tomas in solucion_actual.values():\n",
        "                tomas_asignadas.update(tomas)\n",
        "            if len(tomas_asignadas) < len(tomas_pendientes_inicial):\n",
        "                nuevo_dia = max(solucion_actual.keys()) + 1 if solucion_actual else 1\n",
        "                nueva_solucion = solucion_actual.copy()\n",
        "                nueva_solucion[dia_origen] = tomas_origen[:i] + tomas_origen[i+1:]\n",
        "                if not nueva_solucion[dia_origen]:\n",
        "                    del nueva_solucion[dia_origen]\n",
        "                nueva_solucion[nuevo_dia] = [toma_a_mover]\n",
        "                vecinos.append(nueva_solucion)\n",
        "    return vecinos\n",
        "\n",
        "def generar_solucion_inicial(num_tomas, max_tomas_por_dia):\n",
        "    \"\"\"Genera una solución inicial aleatoria.\"\"\"\n",
        "    tomas = list(range(1, num_tomas + 1))\n",
        "    random.shuffle(tomas)\n",
        "    solucion = defaultdict(list)\n",
        "    dia = 1\n",
        "    for toma in tomas:\n",
        "        solucion[dia].append(toma)\n",
        "        if len(solucion[dia]) >= max_tomas_por_dia and toma != tomas[-1]:\n",
        "            dia += 1\n",
        "    return dict(solucion)\n",
        "\n",
        "def busqueda_tabu(df, num_iteraciones, tamano_tabu):\n",
        "    \"\"\"Implementación del algoritmo de búsqueda tabú.\"\"\"\n",
        "    solucion_actual = generar_solucion_inicial(num_tomas, max_tomas_por_dia)\n",
        "    mejor_solucion = solucion_actual.copy()\n",
        "    mejor_costo = evaluar_solucion(mejor_solucion, df)\n",
        "    lista_tabu = [tuple(sorted(item) for item in mejor_solucion.items())] # Almacenar soluciones como tuplas ordenadas\n",
        "\n",
        "    tomas_pendientes_inicial = set(range(1, num_tomas + 1))\n",
        "\n",
        "    for iteracion in range(num_iteraciones):\n",
        "        vecinos = generar_vecinos(solucion_actual, tomas_pendientes_inicial)\n",
        "        mejor_vecino = None\n",
        "        mejor_costo_vecino = float('inf')\n",
        "\n",
        "        for vecino in vecinos:\n",
        "            costo_vecino = evaluar_solucion(vecino, df)\n",
        "            vecino_tupla = tuple(sorted(item) for item in vecino.items())\n",
        "\n",
        "            if costo_vecino < mejor_costo_vecino and vecino_tupla not in lista_tabu:\n",
        "                mejor_costo_vecino = costo_vecino\n",
        "                mejor_vecino = vecino\n",
        "            elif costo_vecino < mejor_costo and vecino_tupla in lista_tabu:\n",
        "                # Criterio de aspiración: permitir un movimiento tabú si mejora la mejor solución encontrada\n",
        "                mejor_costo_vecino = costo_vecino\n",
        "                mejor_vecino = vecino\n",
        "\n",
        "        if mejor_vecino:\n",
        "            solucion_actual = mejor_vecino\n",
        "            costo_actual = mejor_costo_vecino\n",
        "            vecino_tupla = tuple(sorted(item) for item in solucion_actual.items())\n",
        "            lista_tabu.append(vecino_tupla)\n",
        "            if len(lista_tabu) > tamano_tabu:\n",
        "                lista_tabu.pop(0)\n",
        "\n",
        "            if costo_actual < mejor_costo:\n",
        "                mejor_costo = costo_actual\n",
        "                mejor_solucion = solucion_actual.copy()\n",
        "\n",
        "        print(f\"Iteración {iteracion + 1}: Mejor costo actual = {mejor_costo}\")\n",
        "\n",
        "    return mejor_solucion, mejor_costo\n",
        "\n",
        "# --- Ejecución de la búsqueda tabú ---\n",
        "num_iteraciones = 500\n",
        "tamano_tabu = 50\n",
        "\n",
        "mejor_plan, mejor_costo = busqueda_tabu(df_actores, num_iteraciones, tamano_tabu)\n",
        "\n",
        "print(\"\\nMejor solución encontrada por Búsqueda Tabú:\")\n",
        "for dia, tomas in sorted(mejor_plan.items()):\n",
        "    actores_dia = calcular_costo_dia(tomas, df_actores)\n",
        "    print(f\"Día {dia}: Tomas {tomas}, Actores requeridos: {actores_dia}\")\n",
        "\n",
        "print(f\"\\nCosto Total de Actores: {mejor_costo}\")"
      ],
      "metadata": {
        "id": "F68otN5TW-B6"
      },
      "execution_count": null,
      "outputs": []
    }
  ]
}